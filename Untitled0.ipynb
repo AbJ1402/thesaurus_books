{
  "nbformat": 4,
  "nbformat_minor": 0,
  "metadata": {
    "colab": {
      "provenance": [],
      "authorship_tag": "ABX9TyN+Af6sjBchkvFkOvvgIImb",
      "include_colab_link": true
    },
    "kernelspec": {
      "name": "python3",
      "display_name": "Python 3"
    },
    "language_info": {
      "name": "python"
    }
  },
  "cells": [
    {
      "cell_type": "markdown",
      "metadata": {
        "id": "view-in-github",
        "colab_type": "text"
      },
      "source": [
        "<a href=\"https://colab.research.google.com/github/AbJ1402/thesaurus_books/blob/main/Untitled0.ipynb\" target=\"_parent\"><img src=\"https://colab.research.google.com/assets/colab-badge.svg\" alt=\"Open In Colab\"/></a>"
      ]
    },
    {
      "cell_type": "markdown",
      "source": [
        "Thesauras for books"
      ],
      "metadata": {
        "id": "akfieRzd0Qb_"
      }
    },
    {
      "cell_type": "markdown",
      "source": [
        "# Codespace"
      ],
      "metadata": {
        "id": "re_wpohP0LOc"
      }
    },
    {
      "cell_type": "code",
      "execution_count": 1,
      "metadata": {
        "colab": {
          "base_uri": "https://localhost:8080/"
        },
        "id": "iRlTZmgJbp9g",
        "outputId": "01712b49-c33d-4af7-b314-b2922273d770"
      },
      "outputs": [
        {
          "output_type": "stream",
          "name": "stdout",
          "text": [
            "Requirement already satisfied: PyDictionary in /usr/local/lib/python3.10/dist-packages (2.0.1)\n",
            "Requirement already satisfied: bs4 in /usr/local/lib/python3.10/dist-packages (from PyDictionary) (0.0.2)\n",
            "Requirement already satisfied: click in /usr/local/lib/python3.10/dist-packages (from PyDictionary) (8.1.7)\n",
            "Requirement already satisfied: goslate in /usr/local/lib/python3.10/dist-packages (from PyDictionary) (1.5.4)\n",
            "Requirement already satisfied: requests in /usr/local/lib/python3.10/dist-packages (from PyDictionary) (2.31.0)\n",
            "Requirement already satisfied: beautifulsoup4 in /usr/local/lib/python3.10/dist-packages (from bs4->PyDictionary) (4.12.3)\n",
            "Requirement already satisfied: futures in /usr/local/lib/python3.10/dist-packages (from goslate->PyDictionary) (3.0.5)\n",
            "Requirement already satisfied: charset-normalizer<4,>=2 in /usr/local/lib/python3.10/dist-packages (from requests->PyDictionary) (3.3.2)\n",
            "Requirement already satisfied: idna<4,>=2.5 in /usr/local/lib/python3.10/dist-packages (from requests->PyDictionary) (3.6)\n",
            "Requirement already satisfied: urllib3<3,>=1.21.1 in /usr/local/lib/python3.10/dist-packages (from requests->PyDictionary) (2.0.7)\n",
            "Requirement already satisfied: certifi>=2017.4.17 in /usr/local/lib/python3.10/dist-packages (from requests->PyDictionary) (2024.2.2)\n",
            "Requirement already satisfied: soupsieve>1.2 in /usr/local/lib/python3.10/dist-packages (from beautifulsoup4->bs4->PyDictionary) (2.5)\n"
          ]
        }
      ],
      "source": [
        "import math\n",
        "import numpy as np\n",
        "import pandas as pd\n",
        "import matplotlib.pyplot as plt\n",
        "\n",
        "!pip install PyDictionary\n",
        "from PyDictionary import PyDictionary\n",
        "import io"
      ]
    },
    {
      "cell_type": "code",
      "source": [
        "import re\n",
        "import string"
      ],
      "metadata": {
        "id": "q4vxGVIi1ton"
      },
      "execution_count": 32,
      "outputs": []
    },
    {
      "cell_type": "code",
      "source": [
        "def remove_punctuation(input_string):\n",
        "    # Create a translation table\n",
        "    translator = str.maketrans('', '', string.punctuation)\n",
        "\n",
        "    # Use translate to remove punctuation\n",
        "    result = input_string.translate(translator)\n",
        "\n",
        "    return result"
      ],
      "metadata": {
        "id": "_UjLwwOs3nYz"
      },
      "execution_count": 33,
      "outputs": []
    },
    {
      "cell_type": "code",
      "source": [
        "from google.colab import files\n",
        "uploaded = files.upload()"
      ],
      "metadata": {
        "colab": {
          "base_uri": "https://localhost:8080/",
          "height": 73
        },
        "id": "jrN4x6NJi0e1",
        "outputId": "1099006f-a396-45de-d15e-2f36fd273792"
      },
      "execution_count": 14,
      "outputs": [
        {
          "output_type": "display_data",
          "data": {
            "text/plain": [
              "<IPython.core.display.HTML object>"
            ],
            "text/html": [
              "\n",
              "     <input type=\"file\" id=\"files-fabef18a-20d0-4d01-8dc5-bca1e1064ff8\" name=\"files[]\" multiple disabled\n",
              "        style=\"border:none\" />\n",
              "     <output id=\"result-fabef18a-20d0-4d01-8dc5-bca1e1064ff8\">\n",
              "      Upload widget is only available when the cell has been executed in the\n",
              "      current browser session. Please rerun this cell to enable.\n",
              "      </output>\n",
              "      <script>// Copyright 2017 Google LLC\n",
              "//\n",
              "// Licensed under the Apache License, Version 2.0 (the \"License\");\n",
              "// you may not use this file except in compliance with the License.\n",
              "// You may obtain a copy of the License at\n",
              "//\n",
              "//      http://www.apache.org/licenses/LICENSE-2.0\n",
              "//\n",
              "// Unless required by applicable law or agreed to in writing, software\n",
              "// distributed under the License is distributed on an \"AS IS\" BASIS,\n",
              "// WITHOUT WARRANTIES OR CONDITIONS OF ANY KIND, either express or implied.\n",
              "// See the License for the specific language governing permissions and\n",
              "// limitations under the License.\n",
              "\n",
              "/**\n",
              " * @fileoverview Helpers for google.colab Python module.\n",
              " */\n",
              "(function(scope) {\n",
              "function span(text, styleAttributes = {}) {\n",
              "  const element = document.createElement('span');\n",
              "  element.textContent = text;\n",
              "  for (const key of Object.keys(styleAttributes)) {\n",
              "    element.style[key] = styleAttributes[key];\n",
              "  }\n",
              "  return element;\n",
              "}\n",
              "\n",
              "// Max number of bytes which will be uploaded at a time.\n",
              "const MAX_PAYLOAD_SIZE = 100 * 1024;\n",
              "\n",
              "function _uploadFiles(inputId, outputId) {\n",
              "  const steps = uploadFilesStep(inputId, outputId);\n",
              "  const outputElement = document.getElementById(outputId);\n",
              "  // Cache steps on the outputElement to make it available for the next call\n",
              "  // to uploadFilesContinue from Python.\n",
              "  outputElement.steps = steps;\n",
              "\n",
              "  return _uploadFilesContinue(outputId);\n",
              "}\n",
              "\n",
              "// This is roughly an async generator (not supported in the browser yet),\n",
              "// where there are multiple asynchronous steps and the Python side is going\n",
              "// to poll for completion of each step.\n",
              "// This uses a Promise to block the python side on completion of each step,\n",
              "// then passes the result of the previous step as the input to the next step.\n",
              "function _uploadFilesContinue(outputId) {\n",
              "  const outputElement = document.getElementById(outputId);\n",
              "  const steps = outputElement.steps;\n",
              "\n",
              "  const next = steps.next(outputElement.lastPromiseValue);\n",
              "  return Promise.resolve(next.value.promise).then((value) => {\n",
              "    // Cache the last promise value to make it available to the next\n",
              "    // step of the generator.\n",
              "    outputElement.lastPromiseValue = value;\n",
              "    return next.value.response;\n",
              "  });\n",
              "}\n",
              "\n",
              "/**\n",
              " * Generator function which is called between each async step of the upload\n",
              " * process.\n",
              " * @param {string} inputId Element ID of the input file picker element.\n",
              " * @param {string} outputId Element ID of the output display.\n",
              " * @return {!Iterable<!Object>} Iterable of next steps.\n",
              " */\n",
              "function* uploadFilesStep(inputId, outputId) {\n",
              "  const inputElement = document.getElementById(inputId);\n",
              "  inputElement.disabled = false;\n",
              "\n",
              "  const outputElement = document.getElementById(outputId);\n",
              "  outputElement.innerHTML = '';\n",
              "\n",
              "  const pickedPromise = new Promise((resolve) => {\n",
              "    inputElement.addEventListener('change', (e) => {\n",
              "      resolve(e.target.files);\n",
              "    });\n",
              "  });\n",
              "\n",
              "  const cancel = document.createElement('button');\n",
              "  inputElement.parentElement.appendChild(cancel);\n",
              "  cancel.textContent = 'Cancel upload';\n",
              "  const cancelPromise = new Promise((resolve) => {\n",
              "    cancel.onclick = () => {\n",
              "      resolve(null);\n",
              "    };\n",
              "  });\n",
              "\n",
              "  // Wait for the user to pick the files.\n",
              "  const files = yield {\n",
              "    promise: Promise.race([pickedPromise, cancelPromise]),\n",
              "    response: {\n",
              "      action: 'starting',\n",
              "    }\n",
              "  };\n",
              "\n",
              "  cancel.remove();\n",
              "\n",
              "  // Disable the input element since further picks are not allowed.\n",
              "  inputElement.disabled = true;\n",
              "\n",
              "  if (!files) {\n",
              "    return {\n",
              "      response: {\n",
              "        action: 'complete',\n",
              "      }\n",
              "    };\n",
              "  }\n",
              "\n",
              "  for (const file of files) {\n",
              "    const li = document.createElement('li');\n",
              "    li.append(span(file.name, {fontWeight: 'bold'}));\n",
              "    li.append(span(\n",
              "        `(${file.type || 'n/a'}) - ${file.size} bytes, ` +\n",
              "        `last modified: ${\n",
              "            file.lastModifiedDate ? file.lastModifiedDate.toLocaleDateString() :\n",
              "                                    'n/a'} - `));\n",
              "    const percent = span('0% done');\n",
              "    li.appendChild(percent);\n",
              "\n",
              "    outputElement.appendChild(li);\n",
              "\n",
              "    const fileDataPromise = new Promise((resolve) => {\n",
              "      const reader = new FileReader();\n",
              "      reader.onload = (e) => {\n",
              "        resolve(e.target.result);\n",
              "      };\n",
              "      reader.readAsArrayBuffer(file);\n",
              "    });\n",
              "    // Wait for the data to be ready.\n",
              "    let fileData = yield {\n",
              "      promise: fileDataPromise,\n",
              "      response: {\n",
              "        action: 'continue',\n",
              "      }\n",
              "    };\n",
              "\n",
              "    // Use a chunked sending to avoid message size limits. See b/62115660.\n",
              "    let position = 0;\n",
              "    do {\n",
              "      const length = Math.min(fileData.byteLength - position, MAX_PAYLOAD_SIZE);\n",
              "      const chunk = new Uint8Array(fileData, position, length);\n",
              "      position += length;\n",
              "\n",
              "      const base64 = btoa(String.fromCharCode.apply(null, chunk));\n",
              "      yield {\n",
              "        response: {\n",
              "          action: 'append',\n",
              "          file: file.name,\n",
              "          data: base64,\n",
              "        },\n",
              "      };\n",
              "\n",
              "      let percentDone = fileData.byteLength === 0 ?\n",
              "          100 :\n",
              "          Math.round((position / fileData.byteLength) * 100);\n",
              "      percent.textContent = `${percentDone}% done`;\n",
              "\n",
              "    } while (position < fileData.byteLength);\n",
              "  }\n",
              "\n",
              "  // All done.\n",
              "  yield {\n",
              "    response: {\n",
              "      action: 'complete',\n",
              "    }\n",
              "  };\n",
              "}\n",
              "\n",
              "scope.google = scope.google || {};\n",
              "scope.google.colab = scope.google.colab || {};\n",
              "scope.google.colab._files = {\n",
              "  _uploadFiles,\n",
              "  _uploadFilesContinue,\n",
              "};\n",
              "})(self);\n",
              "</script> "
            ]
          },
          "metadata": {}
        },
        {
          "output_type": "stream",
          "name": "stdout",
          "text": [
            "Saving random_harry_potter.txt to random_harry_potter.txt\n"
          ]
        }
      ]
    },
    {
      "cell_type": "code",
      "source": [
        "def find_meanings(word_list):\n",
        "    dictionary = PyDictionary()\n",
        "\n",
        "    meanings = {}\n",
        "    for word in word_list:\n",
        "        try:\n",
        "            meanings[word] = dictionary.meaning(word)\n",
        "        except Exception as e:\n",
        "            meanings[word] = f\"Error: {str(e)}\"\n",
        "\n",
        "    return meanings"
      ],
      "metadata": {
        "id": "EVNXBeW673fk"
      },
      "execution_count": 38,
      "outputs": []
    },
    {
      "cell_type": "code",
      "source": [
        "def find_meaning (word_list):\n",
        "    dictionary = PyDictionary()\n",
        "\n",
        "    meanings_list = []\n",
        "    for word in word_list:\n",
        "        try:\n",
        "            meanings = dictionary.meaning(word)\n",
        "            # If meanings exist, append them to the list\n",
        "            if meanings:\n",
        "                meanings_list.append(f\"{word}: {meanings}\")\n",
        "            else:\n",
        "                meanings_list.append(f\"{word}: No meanings found.\")\n",
        "        except Exception as e:\n",
        "            meanings_list.append(f\"{word}: Error - {str(e)}\")\n",
        "\n",
        "    return meanings_list"
      ],
      "metadata": {
        "id": "OYZSTS8yI833"
      },
      "execution_count": 51,
      "outputs": []
    },
    {
      "cell_type": "code",
      "source": [
        "def main():\n",
        "  #df = pd.read_csv(io.StringIO(uploaded['random_harry_potter.txt'].decode('utf-8')))\n",
        "  #print(uploaded)\n",
        "  with open('random_harry_potter.txt', 'r') as f:\n",
        "    file_content = f.read()\n",
        "\n",
        "  rp_string = remove_punctuation(file_content)\n",
        "  words = rp_string.split()\n",
        "  words_list = words[0:20]\n",
        "\n",
        "  #meanings = find_meanings(words_list)\n",
        "  #print(type(meanings))\n",
        "  print(words_list)\n",
        "  #print(meanings)\n",
        "  #for word, meaning in meanings.items():\n",
        "  #  print(f\"{word}: {meaning}\")\n",
        "\n",
        "  meanings_list = find_meaning(words_list)\n",
        "\n",
        "  for meaning in meanings_list:\n",
        "    print(meaning)\n",
        "\n",
        "  #print(words[:2500])"
      ],
      "metadata": {
        "id": "K13Gtxgjd-_S"
      },
      "execution_count": 58,
      "outputs": []
    },
    {
      "cell_type": "code",
      "source": [
        "main()"
      ],
      "metadata": {
        "colab": {
          "base_uri": "https://localhost:8080/"
        },
        "id": "GggtOrRYoEMZ",
        "outputId": "3142fbf2-3909-48b5-9ed6-17714705dfea"
      },
      "execution_count": 59,
      "outputs": [
        {
          "output_type": "stream",
          "name": "stdout",
          "text": [
            "['\\ufeffHARRY', 'POTTER', 'and', 'the', 'Goblet', 'of', 'Fire', 'JK', 'ROWLINGAll', 'rights', 'reserved', 'no', 'part', 'of', 'this', 'publication', 'may', 'be', 'reproduced', 'or']\n",
            "Error: The Following Error occured: list index out of range\n",
            "Error: The Following Error occured: list index out of range\n",
            "Error: The Following Error occured: list index out of range\n",
            "Error: The Following Error occured: list index out of range\n",
            "Error: The Following Error occured: list index out of range\n",
            "Error: The Following Error occured: list index out of range\n",
            "Error: The Following Error occured: list index out of range\n",
            "Error: The Following Error occured: list index out of range\n",
            "﻿HARRY: No meanings found.\n",
            "POTTER: {'Noun': [\"a craftsman who shapes pottery on a potter's wheel and bakes them it a kiln\"], 'Verb': ['do random, unplanned work or activities or spend time idly', 'work lightly', 'move around aimlessly']}\n",
            "and: No meanings found.\n",
            "the: No meanings found.\n",
            "Goblet: {'Noun': ['a drinking glass with a base and stem', 'a bowl-shaped drinking vessel; especially the Eucharistic cup']}\n",
            "of: No meanings found.\n",
            "Fire: {'Noun': ['the event of something burning (often destructive', 'the act of firing weapons or artillery at an enemy', 'the process of combustion of inflammable materials producing heat and light and (often', 'a fireplace in which a relatively small fire is burning', 'once thought to be one of four elements composing the universe (Empedocles', 'feelings of great warmth and intensity', 'fuel that is burning and is used as a means for cooking', 'a severe trial', 'intense adverse criticism'], 'Verb': ['start firing a weapon', 'cause to go off', 'bake in a kiln so as to harden', 'terminate the employment of; discharge from an office or position', 'go off or discharge', 'drive out or away by or as if by fire', 'call forth (emotions, feelings, and responses', 'destroy by fire', 'provide with fuel', 'generate an electrical impulse', 'become ignited', 'start or maintain a fire in']}\n",
            "JK: No meanings found.\n",
            "ROWLINGAll: No meanings found.\n",
            "rights: {'Noun': ['an abstract idea of that which is due to a person or governmental body by law or tradition or nature', 'location near or direction toward the right side; i.e. the side to the south when a person or object faces east', \"the piece of ground in the outfield on the catcher's right\", 'those who support political or social or economic conservatism; those who believe that things are better left unchanged', 'the hand that is on the right side of the body', 'a turn toward the side of the body that is on the south when the person is facing east', 'anything in accord with principles of justice', '(frequently plural'], 'Verb': ['make reparations or amends for', 'put in or restore to an upright position', 'regain an upright or proper position', 'make right or correct']}\n",
            "reserved: {'Verb': ['hold back or set aside, especially for future use or contingency', 'give or assign a resource to a particular person or cause', 'obtain or arrange (for oneself', 'arrange for and reserve (something for someone else'], 'Adjective': ['set aside for the use of a particular person or party', 'marked by self-restraint and reticence']}\n",
            "no: {'Noun': ['a negative', 'a radioactive transuranic element synthesized by bombarding curium with carbon ions; 7 isotopes are known'], 'Adjective': ['(quantifier'], 'Adverb': ['referring to the degree to which a certain quality is present', 'not in any degree or manner; not at all', 'used to express refusal or denial or disagreement etc or especially to emphasize a negative statement']}\n",
            "part: {'Noun': ['something determined in relation to something that includes it', 'something less than the whole of a human artifact', 'a portion of a natural object', 'that which concerns a person with regard to a particular role or situation', 'the extended spatial location of something', 'the actions and activities assigned to or required or expected of a person or group', \"an actor's portrayal of someone in a play\", 'assets belonging to or due to or contributed by an individual person or group', 'one of the portions into which something is regarded as divided and which together constitute a whole', 'a line of scalp that can be seen when sections of hair are combed in opposite directions', 'the melody carried by a particular voice or instrument in polyphonic music', 'the effort contributed by a person in bringing about a result', 'an item that is an instance of some type'], 'Verb': [\"go one's own way; move apart\", 'discontinue an association or relation; go different ways', 'come apart', 'force, take, or pull apart'], 'Adverb': ['to some extent; in some degree; not wholly']}\n",
            "of: No meanings found.\n",
            "this: No meanings found.\n",
            "publication: {'Noun': ['a copy of a printed work offered for distribution', 'the act of issuing printed materials', 'the communication of something to the public; making information generally known', 'the business of issuing printed matter for sale or distribution']}\n",
            "may: {'Noun': ['the month following April and preceding June', 'thorny Eurasian shrub of small tree having dense clusters of white to scarlet flowers followed by deep red berries; established as an escape in eastern North America']}\n",
            "be: {'Noun': ['a light strong brittle grey toxic bivalent metallic element'], 'Verb': ['have the quality of being; (copula, used with an adjective or a predicate noun', 'be identical to; be someone or something', 'occupy a certain position or area; be somewhere', 'have an existence, be extant', 'happen, occur, take place', 'be identical or equivalent to', 'form or compose', 'work in a specific place, with a specific subject, or in a specific function', 'represent, as of a character on stage', 'spend or use time', 'have life, be alive', 'to remain unmolested, undisturbed, or uninterrupted -- used only in infinitive form', 'be priced at']}\n",
            "reproduced: {'Verb': ['make a copy or equivalent of', 'have offspring or produce more individuals of a given animal or plant', 'recreate a sound, image, idea, mood, atmosphere, etc.', 'repeat after memorization']}\n",
            "or: {'Noun': ['a state in northwestern United States on the Pacific', 'a room in a hospital equipped for the performance of surgical operations']}\n"
          ]
        }
      ]
    }
  ]
}